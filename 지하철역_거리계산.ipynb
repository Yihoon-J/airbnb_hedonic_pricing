{
  "nbformat": 4,
  "nbformat_minor": 0,
  "metadata": {
    "colab": {
      "provenance": []
    },
    "kernelspec": {
      "name": "python3",
      "display_name": "Python 3"
    },
    "language_info": {
      "name": "python"
    }
  },
  "cells": [
    {
      "cell_type": "code",
      "source": [
        "from google.colab import drive\n",
        "drive.mount('/gdrive')"
      ],
      "metadata": {
        "colab": {
          "base_uri": "https://localhost:8080/"
        },
        "id": "XN9n9vAcWNK6",
        "outputId": "a1c379f3-53b7-4f79-cc85-0e74423911c6"
      },
      "execution_count": null,
      "outputs": [
        {
          "output_type": "stream",
          "name": "stdout",
          "text": [
            "Mounted at /gdrive\n"
          ]
        }
      ]
    },
    {
      "cell_type": "code",
      "execution_count": null,
      "metadata": {
        "colab": {
          "base_uri": "https://localhost:8080/"
        },
        "id": "SzzE88HmWI31",
        "outputId": "a6562013-9ffd-458b-c6ff-54ab0a0c27d0"
      },
      "outputs": [
        {
          "output_type": "stream",
          "name": "stdout",
          "text": [
            "Looking in indexes: https://pypi.org/simple, https://us-python.pkg.dev/colab-wheels/public/simple/\n",
            "Collecting haversine\n",
            "  Downloading haversine-2.7.0-py2.py3-none-any.whl (6.9 kB)\n",
            "Installing collected packages: haversine\n",
            "Successfully installed haversine-2.7.0\n"
          ]
        }
      ],
      "source": [
        "!pip install haversine"
      ]
    },
    {
      "cell_type": "code",
      "source": [
        "import pandas as pd\n",
        "\n",
        "subway_line = pd.read_csv('/gdrive/MyDrive/DScover 2학기 프로젝트/서울교통공사 지하철역 위치정보.csv')\n",
        "airbnb = pd.read_excel('/gdrive/MyDrive/DScover 2학기 프로젝트/숙소 전체_중복값 제거.xlsx')"
      ],
      "metadata": {
        "id": "rPAhufFcWZ6V"
      },
      "execution_count": null,
      "outputs": []
    },
    {
      "cell_type": "code",
      "source": [
        "# 에어비앤비 위치정보 처리\n",
        "\n",
        "airbnb['location'] = airbnb['location'].apply(lambda x: eval(x))\n",
        "\n",
        "lat_lon = []\n",
        "\n",
        "for x, y in airbnb['location'].to_list():\n",
        "  x = float(x)\n",
        "  y = float(y)\n",
        "  lat_lon.append((x, y))\n",
        "\n",
        "airbnb['locations'] = lat_lon"
      ],
      "metadata": {
        "id": "-clbs4RgZoJl"
      },
      "execution_count": null,
      "outputs": []
    },
    {
      "cell_type": "code",
      "source": [
        "# 서울 지하철역 위치정보 처리\n",
        "subway_line = subway_line.sort_values(by=['위도', '경도'], ignore_index=True) # 위도/경도 기준 정렬\n",
        "subway_line['location'] = [(subway_line.iloc[i, -2], subway_line.iloc[i, -1]) for i in range(len(subway_line))]"
      ],
      "metadata": {
        "id": "1M3iklT0X_rR"
      },
      "execution_count": null,
      "outputs": []
    },
    {
      "cell_type": "code",
      "source": [
        "from haversine import haversine\n",
        "\n",
        "# 거리 계산 함수\n",
        "def getDist(p1, p2):\n",
        "  return haversine(p1, p2, unit='km')\n",
        "\n",
        "# 지하철역별 거리 반환\n",
        "def dac(airbnb, subway):\n",
        "  result = []\n",
        "  for i in range(len(airbnb)):\n",
        "    distances = []\n",
        "    for j in range(len(subway)):\n",
        "      distances.append(getDist(airbnb[i], subway[j]))\n",
        "    result.append(distances)\n",
        "  return result\n",
        "\n",
        "airbnb['distances'] = dac(airbnb['locations'].to_list(), subway_line['location'].to_list())"
      ],
      "metadata": {
        "id": "imwbn0LYgMYr"
      },
      "execution_count": null,
      "outputs": []
    },
    {
      "cell_type": "code",
      "source": [
        "# 최소거리 계산 및 인근 지하철역 정보 저장\n",
        "def min_index(df):\n",
        "  min_distance = []\n",
        "  subway = []\n",
        "  for d in df['distances']:\n",
        "    min_distance.append(min(d)) # 최소 거리\n",
        "    min_i = d.index(min(d))\n",
        "    subway.append(subway_line.iloc[min_i, 1]) # 최소 거리 지하철역\n",
        "  df['min_distance'] = min_distance\n",
        "  df['subway'] = subway\n",
        "\n",
        "min_index(airbnb)"
      ],
      "metadata": {
        "id": "jqjqKizyihDe"
      },
      "execution_count": null,
      "outputs": []
    },
    {
      "cell_type": "code",
      "source": [
        "# 최종 데이터셋 저장\n",
        "airbnb.drop(['location'], axis=1, inplace=True)\n",
        "airbnb.drop(['distances'], axis=1, inplace=True)\n",
        "airbnb.to_csv('인근 지하철역 정보 추가.csv', index=False, encoding='utf-8-sig')"
      ],
      "metadata": {
        "id": "wuPX0wq01Ws9"
      },
      "execution_count": null,
      "outputs": []
    }
  ]
}